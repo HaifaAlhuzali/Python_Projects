{
 "cells": [
  {
   "cell_type": "code",
   "execution_count": 1,
   "id": "7ee5b615",
   "metadata": {},
   "outputs": [],
   "source": [
    "import os,shutil"
   ]
  },
  {
   "cell_type": "code",
   "execution_count": 11,
   "id": "35335a91",
   "metadata": {},
   "outputs": [],
   "source": [
    "path = r\"C:/Users/heef5/new/\""
   ]
  },
  {
   "cell_type": "code",
   "execution_count": 25,
   "id": "f961d362",
   "metadata": {},
   "outputs": [],
   "source": [
    "file_name = os.listdir(path)"
   ]
  },
  {
   "cell_type": "code",
   "execution_count": 26,
   "id": "1c02bd16",
   "metadata": {},
   "outputs": [],
   "source": [
    "Folder_names=['csv files','image files','text file']\n",
    "\n",
    "\n",
    "for loop in range(0,3):\n",
    "    if not os.path.exists(path + Folder_names[loop]):\n",
    "        print(path + Folder_names[loop])\n",
    "        os.makedirs(path + Folder_names[loop])\n",
    "        \n",
    "for file in file_name :\n",
    "    if \".csv\" in file and not os.path.exists(path + \"/csv files/\" + file):\n",
    "        shutil.move(path + file , path + \"/csv files/\" + file )\n",
    "    elif \".jpg\" in file and not os.path.exists(path + \"/image files/\" + file):\n",
    "        shutil.move(path + file , path + \"/image files/\" + file )\n",
    "    elif \".txt\" in file and not os.path.exists(path + \"/text files/\" + file):\n",
    "        shutil.move(path + file , path + \"/text file/\" + file )"
   ]
  }
 ],
 "metadata": {
  "kernelspec": {
   "display_name": "Python 3 (ipykernel)",
   "language": "python",
   "name": "python3"
  },
  "language_info": {
   "codemirror_mode": {
    "name": "ipython",
    "version": 3
   },
   "file_extension": ".py",
   "mimetype": "text/x-python",
   "name": "python",
   "nbconvert_exporter": "python",
   "pygments_lexer": "ipython3",
   "version": "3.11.4"
  }
 },
 "nbformat": 4,
 "nbformat_minor": 5
}
